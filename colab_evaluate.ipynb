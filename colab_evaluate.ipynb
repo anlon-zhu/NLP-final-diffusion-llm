{
 "cells": [
  {
   "cell_type": "markdown",
   "metadata": {},
   "source": [
    "# SMDM Evaluation Notebook\n",
    "This notebook installs dependencies, downloads pretrained SMDM weights, and runs the diffusion evaluation script on Colab."
   ]
  },
  {
   "cell_type": "markdown",
   "metadata": {},
   "source": [
    "## Install dependencies\n"
   ]
  },
  {
   "cell_type": "code",
   "execution_count": null,
   "metadata": {},
   "outputs": [],
   "source": [
    "!pip install --upgrade torch torchvision torchaudio",
    "!pip install lightning bitsandbytes flash-attn xformers huggingface-hub safetensors fschat datasets transformers lm-eval"
   ]
  },
  {
   "cell_type": "markdown",
   "metadata": {},
   "source": [
    "## Clone the repository\n"
   ]
  },
  {
   "cell_type": "code",
   "execution_count": null,
   "metadata": {},
   "outputs": [],
   "source": [
    "!git clone https://github.com/anlon-zhu/NLP-final-diffusion-llm.git",
    "%cd NLP-final-diffusion-llm"
   ]
  },
  {
   "cell_type": "markdown",
   "metadata": {},
   "source": [
    "## Download pretrained weights\n"
   ]
  },
  {
   "cell_type": "code",
   "execution_count": null,
   "metadata": {},
   "outputs": [],
   "source": [
    "from huggingface_hub import snapshot_download",
    "snapshot_download(\n",
    "    repo_id=\"nieshen/SMDM\",",
    "    cache_dir=\"models\",",
    "    allow_patterns=[\"*.safetensors\",\"*.pth\"]",
    ")",
    "print(\"✅ Download complete: models/*\")"
   ]
  },
  {
   "cell_type": "markdown",
   "metadata": {},
   "source": [
    "## Run diffusion evaluation\n"
   ]
  },
  {
   "cell_type": "code",
   "execution_count": null,
   "metadata": {},
   "outputs": [],
   "source": [
    "import glob",
    "ckpts = glob.glob(\"models/mdm*.safetensors\")",
    "print(\"Found checkpoint(s):\", ckpts)",
    "ckpt = ckpts[0]",
    "print(\"Using:\", ckpt)",
    "!python evaluate_diff.py --ckpt_path {ckpt} --device cuda:0"
   ]
  }
 ],
 "metadata": {
  "kernelspec": {"name": "python3", "display_name": "Python 3"},
  "language_info": {"name": "python"}
 },
 "nbformat": 4,
 "nbformat_minor": 4
}
